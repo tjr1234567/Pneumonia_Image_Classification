{
 "cells": [
  {
   "cell_type": "code",
   "execution_count": 1,
   "id": "abb8586a",
   "metadata": {},
   "outputs": [
    {
     "name": "stdout",
     "output_type": "stream",
     "text": [
      "WARNING:tensorflow:From D:\\dev\\python\\Anaconda\\Lib\\site-packages\\keras\\src\\losses.py:2976: The name tf.losses.sparse_softmax_cross_entropy is deprecated. Please use tf.compat.v1.losses.sparse_softmax_cross_entropy instead.\n",
      "\n"
     ]
    }
   ],
   "source": [
    "import os\n",
    "import numpy as np\n",
    "from PIL import Image, ImageOps\n",
    "import tensorflow as tf\n",
    "from tensorflow.keras.applications.inception_v3 import InceptionV3, preprocess_input"
   ]
  },
  {
   "cell_type": "code",
   "execution_count": 2,
   "id": "a2dc0661",
   "metadata": {},
   "outputs": [
    {
     "name": "stdout",
     "output_type": "stream",
     "text": [
      "WARNING:tensorflow:From D:\\dev\\python\\Anaconda\\Lib\\site-packages\\keras\\src\\backend.py:1398: The name tf.executing_eagerly_outside_functions is deprecated. Please use tf.compat.v1.executing_eagerly_outside_functions instead.\n",
      "\n",
      "WARNING:tensorflow:From D:\\dev\\python\\Anaconda\\Lib\\site-packages\\keras\\src\\layers\\normalization\\batch_normalization.py:979: The name tf.nn.fused_batch_norm is deprecated. Please use tf.compat.v1.nn.fused_batch_norm instead.\n",
      "\n"
     ]
    }
   ],
   "source": [
    "base_model = InceptionV3(weights='imagenet', include_top=False)"
   ]
  },
  {
   "cell_type": "code",
   "execution_count": 3,
   "id": "62d4b78c",
   "metadata": {},
   "outputs": [],
   "source": [
    "#特征提取函数\n",
    "def feature_extraction(file_path):\n",
    "    try:\n",
    "        img = Image.open(file_path)\n",
    "        img = img.convert(\"RGB\")\n",
    "        img = img.resize((299, 299))  # InceptionV3 模型的输入大小\n",
    "        img = img.convert(\"L\")\n",
    "        img = ImageOps.colorize(img, white=\"white\", black=\"black\")\n",
    "        img_array = np.array(img)\n",
    "        img_array = preprocess_input(img_array)  # 预处理图像，使其适用于 InceptionV3 模型\n",
    "        img_array = np.expand_dims(img_array, axis=0)  # 添加 batch 维度\n",
    "        features = base_model.predict(img_array)\n",
    "        return features.flatten()\n",
    "    except Exception as e:\n",
    "        print(\"Error processing image:\", e)\n",
    "        return None"
   ]
  },
  {
   "cell_type": "code",
   "execution_count": 4,
   "id": "51fbc5af",
   "metadata": {},
   "outputs": [
    {
     "ename": "UnidentifiedImageError",
     "evalue": "cannot identify image file 'C:/Users/PC/Documents/figure/The_2020_National_Budget_Statement.pdf'",
     "output_type": "error",
     "traceback": [
      "\u001b[1;31m---------------------------------------------------------------------------\u001b[0m",
      "\u001b[1;31mUnidentifiedImageError\u001b[0m                    Traceback (most recent call last)",
      "Cell \u001b[1;32mIn[4], line 5\u001b[0m\n\u001b[0;32m      3\u001b[0m png_dir \u001b[38;5;241m=\u001b[39m \u001b[38;5;124m\"\u001b[39m\u001b[38;5;124mC:/Users/PC/Documents/figurepng\u001b[39m\u001b[38;5;124m\"\u001b[39m\u001b[38;5;66;03m#目标文件夹\u001b[39;00m\n\u001b[0;32m      4\u001b[0m \u001b[38;5;28;01mfor\u001b[39;00m i \u001b[38;5;129;01min\u001b[39;00m os\u001b[38;5;241m.\u001b[39mlistdir(webp_dir):\n\u001b[1;32m----> 5\u001b[0m     webp_image \u001b[38;5;241m=\u001b[39m Image\u001b[38;5;241m.\u001b[39mopen(webp_dir\u001b[38;5;241m+\u001b[39m\u001b[38;5;124m\"\u001b[39m\u001b[38;5;124m/\u001b[39m\u001b[38;5;124m\"\u001b[39m\u001b[38;5;241m+\u001b[39mi)\n\u001b[0;32m      6\u001b[0m     webp_image\u001b[38;5;241m.\u001b[39msave(png_dir\u001b[38;5;241m+\u001b[39m\u001b[38;5;124m\"\u001b[39m\u001b[38;5;124m/\u001b[39m\u001b[38;5;124m\"\u001b[39m\u001b[38;5;241m+\u001b[39mi[:\u001b[38;5;241m-\u001b[39m\u001b[38;5;241m5\u001b[39m]\u001b[38;5;241m+\u001b[39m\u001b[38;5;124m\"\u001b[39m\u001b[38;5;124m.png\u001b[39m\u001b[38;5;124m\"\u001b[39m, \u001b[38;5;124m\"\u001b[39m\u001b[38;5;124mPNG\u001b[39m\u001b[38;5;124m\"\u001b[39m)\n",
      "File \u001b[1;32mD:\\dev\\python\\Anaconda\\Lib\\site-packages\\PIL\\Image.py:3280\u001b[0m, in \u001b[0;36mopen\u001b[1;34m(fp, mode, formats)\u001b[0m\n\u001b[0;32m   3278\u001b[0m     warnings\u001b[38;5;241m.\u001b[39mwarn(message)\n\u001b[0;32m   3279\u001b[0m msg \u001b[38;5;241m=\u001b[39m \u001b[38;5;124m\"\u001b[39m\u001b[38;5;124mcannot identify image file \u001b[39m\u001b[38;5;132;01m%r\u001b[39;00m\u001b[38;5;124m\"\u001b[39m \u001b[38;5;241m%\u001b[39m (filename \u001b[38;5;28;01mif\u001b[39;00m filename \u001b[38;5;28;01melse\u001b[39;00m fp)\n\u001b[1;32m-> 3280\u001b[0m \u001b[38;5;28;01mraise\u001b[39;00m UnidentifiedImageError(msg)\n",
      "\u001b[1;31mUnidentifiedImageError\u001b[0m: cannot identify image file 'C:/Users/PC/Documents/figure/The_2020_National_Budget_Statement.pdf'"
     ]
    }
   ],
   "source": [
    "#若图片为webp格式需要通过此模块保存为png格式\n",
    "webp_dir = \"C:/Users/PC/Documents/figure\"#源文件夹\n",
    "png_dir = \"C:/Users/PC/Documents/figurepng\"#目标文件夹\n",
    "for i in os.listdir(webp_dir):\n",
    "    webp_image = Image.open(webp_dir+\"/\"+i)\n",
    "    webp_image.save(png_dir+\"/\"+i[:-5]+\".png\", \"PNG\")"
   ]
  },
  {
   "cell_type": "code",
   "execution_count": 5,
   "id": "67a3daa5",
   "metadata": {},
   "outputs": [],
   "source": [
    "def cosine_similarity(vector1, vector2):\n",
    "    dot_product = np.dot(vector1, vector2)\n",
    "    norm_vector1 = np.linalg.norm(vector1)\n",
    "    norm_vector2 = np.linalg.norm(vector2)\n",
    "    \n",
    "    similarity = dot_product / (norm_vector1 * norm_vector2)\n",
    "    return similarity"
   ]
  },
  {
   "cell_type": "code",
   "execution_count": 6,
   "id": "80028f6a",
   "metadata": {},
   "outputs": [
    {
     "name": "stdout",
     "output_type": "stream",
     "text": [
      "1/1 [==============================] - 4s 4s/step\n",
      "1/1 [==============================] - 0s 220ms/step\n",
      "C:/Users/PC/Documents/figurepng/1.png: 0.4239654\n",
      "1/1 [==============================] - 0s 211ms/step\n",
      "C:/Users/PC/Documents/figurepng/10.png: 0.3277082\n",
      "1/1 [==============================] - 0s 204ms/step\n",
      "C:/Users/PC/Documents/figurepng/11.png: 0.26665202\n",
      "1/1 [==============================] - 0s 221ms/step\n",
      "C:/Users/PC/Documents/figurepng/12.png: 0.3921622\n",
      "1/1 [==============================] - 0s 207ms/step\n",
      "C:/Users/PC/Documents/figurepng/13.png: 0.23177716\n",
      "1/1 [==============================] - 0s 220ms/step\n",
      "C:/Users/PC/Documents/figurepng/14.png: 0.22768393\n",
      "1/1 [==============================] - 0s 213ms/step\n",
      "C:/Users/PC/Documents/figurepng/15.png: 0.2692338\n",
      "1/1 [==============================] - 0s 218ms/step\n",
      "C:/Users/PC/Documents/figurepng/16.png: 0.38188443\n",
      "1/1 [==============================] - 0s 196ms/step\n",
      "C:/Users/PC/Documents/figurepng/17.png: 0.34286714\n",
      "1/1 [==============================] - 0s 200ms/step\n",
      "C:/Users/PC/Documents/figurepng/18.png: 0.25519252\n",
      "1/1 [==============================] - 0s 203ms/step\n",
      "C:/Users/PC/Documents/figurepng/19.png: 0.36259276\n",
      "1/1 [==============================] - 0s 199ms/step\n",
      "C:/Users/PC/Documents/figurepng/2.png: 0.32451344\n",
      "1/1 [==============================] - 0s 210ms/step\n",
      "C:/Users/PC/Documents/figurepng/20.png: 0.33427778\n",
      "1/1 [==============================] - 0s 222ms/step\n",
      "C:/Users/PC/Documents/figurepng/21.png: 0.35549283\n",
      "1/1 [==============================] - 0s 207ms/step\n",
      "C:/Users/PC/Documents/figurepng/22.png: 0.3500939\n",
      "1/1 [==============================] - 0s 207ms/step\n",
      "C:/Users/PC/Documents/figurepng/23.png: 0.29977113\n",
      "1/1 [==============================] - 0s 208ms/step\n",
      "C:/Users/PC/Documents/figurepng/24.png: 0.31944704\n",
      "1/1 [==============================] - 0s 204ms/step\n",
      "C:/Users/PC/Documents/figurepng/25.png: 0.22626106\n",
      "1/1 [==============================] - 0s 228ms/step\n",
      "C:/Users/PC/Documents/figurepng/26.png: 0.273249\n",
      "1/1 [==============================] - 0s 209ms/step\n",
      "C:/Users/PC/Documents/figurepng/27.png: 0.34212375\n",
      "1/1 [==============================] - 0s 230ms/step\n",
      "C:/Users/PC/Documents/figurepng/28.png: 0.4695664\n",
      "1/1 [==============================] - 0s 211ms/step\n",
      "C:/Users/PC/Documents/figurepng/29.png: 0.34552446\n",
      "1/1 [==============================] - 0s 207ms/step\n",
      "C:/Users/PC/Documents/figurepng/3.png: 0.2867803\n",
      "1/1 [==============================] - 0s 211ms/step\n",
      "C:/Users/PC/Documents/figurepng/30.png: 0.3042126\n",
      "1/1 [==============================] - 0s 212ms/step\n",
      "C:/Users/PC/Documents/figurepng/31.png: 0.3077459\n",
      "1/1 [==============================] - 0s 206ms/step\n",
      "C:/Users/PC/Documents/figurepng/32.png: 0.3528151\n",
      "1/1 [==============================] - 0s 208ms/step\n",
      "C:/Users/PC/Documents/figurepng/33.png: 0.3411855\n",
      "1/1 [==============================] - 0s 205ms/step\n",
      "C:/Users/PC/Documents/figurepng/34.png: 0.32253966\n",
      "1/1 [==============================] - 0s 219ms/step\n",
      "C:/Users/PC/Documents/figurepng/35.png: 0.24897066\n",
      "1/1 [==============================] - 0s 224ms/step\n",
      "C:/Users/PC/Documents/figurepng/36.png: 0.3093357\n",
      "1/1 [==============================] - 0s 214ms/step\n",
      "C:/Users/PC/Documents/figurepng/4.png: 0.30016774\n",
      "1/1 [==============================] - 0s 202ms/step\n",
      "C:/Users/PC/Documents/figurepng/5.png: 0.3075455\n",
      "1/1 [==============================] - 0s 212ms/step\n",
      "C:/Users/PC/Documents/figurepng/6.png: 0.25038302\n",
      "1/1 [==============================] - 0s 212ms/step\n",
      "C:/Users/PC/Documents/figurepng/7.png: 0.3902031\n",
      "1/1 [==============================] - 0s 213ms/step\n",
      "C:/Users/PC/Documents/figurepng/8.png: 0.31075203\n",
      "1/1 [==============================] - 0s 226ms/step\n",
      "C:/Users/PC/Documents/figurepng/9.png: 0.28017607\n"
     ]
    }
   ],
   "source": [
    "source = feature_extraction(\"C:/Users/PC/Pictures/tjr.png\")\n",
    "similar = 0\n",
    "img = None\n",
    "for i in os.listdir(png_dir):\n",
    "    v = feature_extraction(png_dir + \"/\" + i)\n",
    "    s = cosine_similarity(source,v)\n",
    "    print(png_dir + \"/\" + i+\":\",s)\n",
    "    if s > similar:\n",
    "        img = Image.open(png_dir + \"/\" + i)\n",
    "        similar = s"
   ]
  },
  {
   "cell_type": "code",
   "execution_count": null,
   "id": "cc0261b1",
   "metadata": {},
   "outputs": [],
   "source": [
    "img.show()"
   ]
  },
  {
   "cell_type": "code",
   "execution_count": 63,
   "id": "86d16761",
   "metadata": {},
   "outputs": [
    {
     "name": "stdout",
     "output_type": "stream",
     "text": [
      "0.4695664\n"
     ]
    }
   ],
   "source": [
    "print(similar)"
   ]
  },
  {
   "cell_type": "code",
   "execution_count": null,
   "id": "e376a276",
   "metadata": {},
   "outputs": [],
   "source": []
  }
 ],
 "metadata": {
  "kernelspec": {
   "display_name": "Python 3 (ipykernel)",
   "language": "python",
   "name": "python3"
  },
  "language_info": {
   "codemirror_mode": {
    "name": "ipython",
    "version": 3
   },
   "file_extension": ".py",
   "mimetype": "text/x-python",
   "name": "python",
   "nbconvert_exporter": "python",
   "pygments_lexer": "ipython3",
   "version": "3.11.5"
  }
 },
 "nbformat": 4,
 "nbformat_minor": 5
}
